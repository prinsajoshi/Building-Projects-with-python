{
 "cells": [
  {
   "cell_type": "code",
   "execution_count": null,
   "id": "c05534d7",
   "metadata": {},
   "outputs": [],
   "source": [
    "#ImportingLLibraries\n",
    "import sqlite3\n",
    "import pandas as pd\n",
    "\n",
    "#SQLite database connection\n",
    "new_connection= sqlite3.connect(r'C:\\Users\\prinsa\\demo.db')\n",
    "\n",
    "#Loading data into DataFrame\n",
    "demo_data=pd.read_csv('demo.csv')\n",
    "\n",
    "#write the data to sqlite table\n",
    "demo_data.to_sql('demo5',new_connection,if_exists='replace',index=False)"
   ]
  }
 ],
 "metadata": {
  "kernelspec": {
   "display_name": "Python 3 (ipykernel)",
   "language": "python",
   "name": "python3"
  },
  "language_info": {
   "codemirror_mode": {
    "name": "ipython",
    "version": 3
   },
   "file_extension": ".py",
   "mimetype": "text/x-python",
   "name": "python",
   "nbconvert_exporter": "python",
   "pygments_lexer": "ipython3",
   "version": "3.10.9"
  }
 },
 "nbformat": 4,
 "nbformat_minor": 5
}
