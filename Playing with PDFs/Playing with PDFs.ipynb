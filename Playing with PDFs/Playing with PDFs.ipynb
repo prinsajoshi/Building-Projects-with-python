{
 "cells": [
  {
   "cell_type": "code",
   "execution_count": 1,
   "id": "c5b1a622",
   "metadata": {},
   "outputs": [
    {
     "name": "stdout",
     "output_type": "stream",
     "text": [
      "Collecting PyPDF2\n",
      "  Downloading pypdf2-3.0.1-py3-none-any.whl (232 kB)\n",
      "     ------------------------------------ 232.6/232.6 kB 710.3 kB/s eta 0:00:00\n",
      "Installing collected packages: PyPDF2\n",
      "Successfully installed PyPDF2-3.0.1\n"
     ]
    }
   ],
   "source": [
    "!pip install PyPDF2"
   ]
  },
  {
   "cell_type": "code",
   "execution_count": 22,
   "id": "0b8dc11d",
   "metadata": {},
   "outputs": [
    {
     "name": "stdout",
     "output_type": "stream",
     "text": [
      "19\n",
      "      RST<='0';  \n",
      "  CLK<='1';  \n",
      "   \n",
      "  wait for 100 ns;  \n",
      "   \n",
      "  RST<='1';  \n",
      "  CLK<='1';  \n",
      "      -- insert stimulus here  \n",
      " \n",
      "      wait; \n",
      "   end process;  \n",
      " \n",
      " \n",
      " \n",
      "Timing Diagram:  \n",
      " \n",
      " \n",
      " \n",
      " \n",
      "\n"
     ]
    }
   ],
   "source": [
    "import PyPDF2\n",
    "#file object creation\n",
    "new_pdf = open('abc.pdf','rb')\n",
    "#pdf reader object\n",
    "reading_pdf =PyPDF2.PdfReader(new_pdf)\n",
    "#no of pages in pdf\n",
    "print(len(reading_pdf.pages))\n",
    "#page object creation\n",
    "pdf_page=reading_pdf.pages[len(reading_pdf.pages)-1]\n",
    "print(pdf_page.extract_text())\n",
    "#close pdf file\n",
    "new_pdf.close()"
   ]
  }
 ],
 "metadata": {
  "kernelspec": {
   "display_name": "Python 3 (ipykernel)",
   "language": "python",
   "name": "python3"
  },
  "language_info": {
   "codemirror_mode": {
    "name": "ipython",
    "version": 3
   },
   "file_extension": ".py",
   "mimetype": "text/x-python",
   "name": "python",
   "nbconvert_exporter": "python",
   "pygments_lexer": "ipython3",
   "version": "3.10.9"
  }
 },
 "nbformat": 4,
 "nbformat_minor": 5
}
