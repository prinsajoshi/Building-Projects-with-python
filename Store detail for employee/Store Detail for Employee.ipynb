{
 "cells": [
  {
   "cell_type": "code",
   "execution_count": 7,
   "id": "782239e0",
   "metadata": {},
   "outputs": [
    {
     "name": "stdout",
     "output_type": "stream",
     "text": [
      "there are 6 employee:\n",
      "**info**\n",
      "Name: Employee1 ,Position: HR ,Salary: 30008\n",
      "Name: Employee2 ,Position: HR ,Salary: 30007\n",
      "Name: Employee3 ,Position: HR ,Salary: 30006\n",
      "Name: Employee4 ,Position: HR ,Salary: 30005\n"
     ]
    }
   ],
   "source": [
    "class Employee:\n",
    "    count=0\n",
    "    def __init__(self,name,position,salary):\n",
    "        self.name=name\n",
    "        self.position=position\n",
    "        self.salary=salary\n",
    "        Employee.count+=1\n",
    "    def displayCount(self):\n",
    "        print(\"there are %d employee:\" % Employee.count)\n",
    "    def displayDetails(self):\n",
    "        print(\"Name:\",self.name,\",Position:\",self.position,\",Salary:\",self.salary)\n",
    "        \n",
    "emp1=Employee(\"Employee1\",\"HR\",30008)\n",
    "emp2=Employee(\"Employee2\",\"HR\",30007)\n",
    "emp3=Employee(\"Employee3\",\"HR\",30006)\n",
    "emp4=Employee(\"Employee4\",\"HR\",30005)\n",
    "emp5=Employee(\"Employee5\",\"HR\",30003)\n",
    "emp6=Employee(\"Employee6\",\"HR\",30002)\n",
    "\n",
    "emp6.displayCount()\n",
    "\n",
    "print(\"**info**\")\n",
    "emp1.displayDetails()\n",
    "emp2.displayDetails()\n",
    "emp3.displayDetails()\n",
    "emp4.displayDetails()"
   ]
  }
 ],
 "metadata": {
  "kernelspec": {
   "display_name": "Python 3 (ipykernel)",
   "language": "python",
   "name": "python3"
  },
  "language_info": {
   "codemirror_mode": {
    "name": "ipython",
    "version": 3
   },
   "file_extension": ".py",
   "mimetype": "text/x-python",
   "name": "python",
   "nbconvert_exporter": "python",
   "pygments_lexer": "ipython3",
   "version": "3.10.9"
  }
 },
 "nbformat": 4,
 "nbformat_minor": 5
}
